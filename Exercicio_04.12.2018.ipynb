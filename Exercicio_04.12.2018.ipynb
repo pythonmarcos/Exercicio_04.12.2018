{
 "cells": [
  {
   "cell_type": "markdown",
   "metadata": {},
   "source": [
    "# EXERCÍCIO DE PYTHON"
   ]
  },
  {
   "cell_type": "code",
   "execution_count": 32,
   "metadata": {},
   "outputs": [],
   "source": [
    "# Importando Bibliotecas\n",
    "\n",
    "import pandas as pd\n",
    "import matplotlib.pyplot as plt\n",
    "import seaborn as sns"
   ]
  },
  {
   "cell_type": "code",
   "execution_count": 10,
   "metadata": {},
   "outputs": [
    {
     "data": {
      "text/html": [
       "<div>\n",
       "<style scoped>\n",
       "    .dataframe tbody tr th:only-of-type {\n",
       "        vertical-align: middle;\n",
       "    }\n",
       "\n",
       "    .dataframe tbody tr th {\n",
       "        vertical-align: top;\n",
       "    }\n",
       "\n",
       "    .dataframe thead th {\n",
       "        text-align: right;\n",
       "    }\n",
       "</style>\n",
       "<table border=\"1\" class=\"dataframe\">\n",
       "  <thead>\n",
       "    <tr style=\"text-align: right;\">\n",
       "      <th></th>\n",
       "      <th>Código do órgão superior</th>\n",
       "      <th>Nome do órgão superior</th>\n",
       "      <th>Código do órgão solicitante da viagem</th>\n",
       "      <th>Nome do órgão solicitante da viagem</th>\n",
       "      <th>N. PCDP</th>\n",
       "      <th>N. Reserva/Localizador</th>\n",
       "      <th>Data Emissão Bilhete</th>\n",
       "      <th>Data Embarque</th>\n",
       "      <th>Valor Tarifa Comercial</th>\n",
       "      <th>Percentual Desconto Aplicado</th>\n",
       "      <th>...</th>\n",
       "      <th>Companhia Aérea</th>\n",
       "      <th>Classe Tarifária Bilhete</th>\n",
       "      <th>Regra Tarifária</th>\n",
       "      <th>No Show</th>\n",
       "      <th>Remarcado</th>\n",
       "      <th>Cancelado</th>\n",
       "      <th>Valor Multas</th>\n",
       "      <th>Valor Reembolso</th>\n",
       "      <th>Diferença de Tarifa</th>\n",
       "      <th>Situação Final Bilhete</th>\n",
       "    </tr>\n",
       "  </thead>\n",
       "  <tbody>\n",
       "    <tr>\n",
       "      <th>0</th>\n",
       "      <td>3</td>\n",
       "      <td>Fundação Instituto Brasileiro de Geografia e ...</td>\n",
       "      <td>3</td>\n",
       "      <td>Fundação Instituto Brasileiro de Geografia e ...</td>\n",
       "      <td>028012/17</td>\n",
       "      <td>JGZQXC</td>\n",
       "      <td>2017-10-03 11:33:35.808</td>\n",
       "      <td>2017-10-06 20:55:00</td>\n",
       "      <td>407.4</td>\n",
       "      <td>0.0</td>\n",
       "      <td>...</td>\n",
       "      <td>LATAM AIRLINES BRASIL</td>\n",
       "      <td>N</td>\n",
       "      <td>http://t.umail.com.br/ClickHere/ViewEmail.asp...</td>\n",
       "      <td>Não</td>\n",
       "      <td>Não</td>\n",
       "      <td>Não</td>\n",
       "      <td>0.0</td>\n",
       "      <td>0.0</td>\n",
       "      <td>0.0</td>\n",
       "      <td>Voado</td>\n",
       "    </tr>\n",
       "    <tr>\n",
       "      <th>1</th>\n",
       "      <td>3</td>\n",
       "      <td>Fundação Instituto Brasileiro de Geografia e ...</td>\n",
       "      <td>3</td>\n",
       "      <td>Fundação Instituto Brasileiro de Geografia e ...</td>\n",
       "      <td>028012/17</td>\n",
       "      <td>JHH5FW</td>\n",
       "      <td>2017-10-03 11:33:37.149</td>\n",
       "      <td>2017-10-04 15:00:00</td>\n",
       "      <td>229.0</td>\n",
       "      <td>3.0</td>\n",
       "      <td>...</td>\n",
       "      <td>AVIANCA S.A.</td>\n",
       "      <td>Z</td>\n",
       "      <td>https://www.avianca.com.br/regras-de-tarifas ...</td>\n",
       "      <td>Não</td>\n",
       "      <td>Não</td>\n",
       "      <td>Não</td>\n",
       "      <td>0.0</td>\n",
       "      <td>0.0</td>\n",
       "      <td>0.0</td>\n",
       "      <td>Voado</td>\n",
       "    </tr>\n",
       "    <tr>\n",
       "      <th>2</th>\n",
       "      <td>3</td>\n",
       "      <td>Fundação Instituto Brasileiro de Geografia e ...</td>\n",
       "      <td>3</td>\n",
       "      <td>Fundação Instituto Brasileiro de Geografia e ...</td>\n",
       "      <td>030294/17</td>\n",
       "      <td>GIKVKJ</td>\n",
       "      <td>2017-10-16 16:12:52.327</td>\n",
       "      <td>2017-10-26 11:40:00</td>\n",
       "      <td>1111.9</td>\n",
       "      <td>0.0</td>\n",
       "      <td>...</td>\n",
       "      <td>GOL Linhas Aéreas Inteligentes</td>\n",
       "      <td>J</td>\n",
       "      <td>https://www.voegol.com.br/pt/informacoes/tari...</td>\n",
       "      <td>Não</td>\n",
       "      <td>Não</td>\n",
       "      <td>Não</td>\n",
       "      <td>0.0</td>\n",
       "      <td>0.0</td>\n",
       "      <td>0.0</td>\n",
       "      <td>Andamento</td>\n",
       "    </tr>\n",
       "    <tr>\n",
       "      <th>3</th>\n",
       "      <td>3</td>\n",
       "      <td>Fundação Instituto Brasileiro de Geografia e ...</td>\n",
       "      <td>3</td>\n",
       "      <td>Fundação Instituto Brasileiro de Geografia e ...</td>\n",
       "      <td>030294/17</td>\n",
       "      <td>HMHR3K</td>\n",
       "      <td>2017-10-16 16:12:58.196</td>\n",
       "      <td>2017-10-23 11:15:00</td>\n",
       "      <td>1015.9</td>\n",
       "      <td>0.0</td>\n",
       "      <td>...</td>\n",
       "      <td>GOL Linhas Aéreas Inteligentes</td>\n",
       "      <td>W</td>\n",
       "      <td>https://www.voegol.com.br/pt/informacoes/tari...</td>\n",
       "      <td>Não</td>\n",
       "      <td>Não</td>\n",
       "      <td>Não</td>\n",
       "      <td>0.0</td>\n",
       "      <td>0.0</td>\n",
       "      <td>0.0</td>\n",
       "      <td>Voado</td>\n",
       "    </tr>\n",
       "    <tr>\n",
       "      <th>4</th>\n",
       "      <td>3</td>\n",
       "      <td>Fundação Instituto Brasileiro de Geografia e ...</td>\n",
       "      <td>3</td>\n",
       "      <td>Fundação Instituto Brasileiro de Geografia e ...</td>\n",
       "      <td>032694/17</td>\n",
       "      <td>LQF4YR</td>\n",
       "      <td>2017-10-31 13:36:19.009</td>\n",
       "      <td>2017-11-20 18:35:00</td>\n",
       "      <td>185.9</td>\n",
       "      <td>3.0</td>\n",
       "      <td>...</td>\n",
       "      <td>GOL Linhas Aéreas Inteligentes</td>\n",
       "      <td>U</td>\n",
       "      <td>https://www.voegol.com.br/pt/informacoes/tari...</td>\n",
       "      <td>Não</td>\n",
       "      <td>Não</td>\n",
       "      <td>Não</td>\n",
       "      <td>0.0</td>\n",
       "      <td>0.0</td>\n",
       "      <td>0.0</td>\n",
       "      <td>Andamento</td>\n",
       "    </tr>\n",
       "  </tbody>\n",
       "</table>\n",
       "<p>5 rows × 23 columns</p>\n",
       "</div>"
      ],
      "text/plain": [
       "   Código do órgão superior  \\\n",
       "0                         3   \n",
       "1                         3   \n",
       "2                         3   \n",
       "3                         3   \n",
       "4                         3   \n",
       "\n",
       "                              Nome do órgão superior  \\\n",
       "0   Fundação Instituto Brasileiro de Geografia e ...   \n",
       "1   Fundação Instituto Brasileiro de Geografia e ...   \n",
       "2   Fundação Instituto Brasileiro de Geografia e ...   \n",
       "3   Fundação Instituto Brasileiro de Geografia e ...   \n",
       "4   Fundação Instituto Brasileiro de Geografia e ...   \n",
       "\n",
       "   Código do órgão solicitante da viagem  \\\n",
       "0                                      3   \n",
       "1                                      3   \n",
       "2                                      3   \n",
       "3                                      3   \n",
       "4                                      3   \n",
       "\n",
       "                 Nome do órgão solicitante da viagem          N. PCDP  \\\n",
       "0   Fundação Instituto Brasileiro de Geografia e ...   028012/17        \n",
       "1   Fundação Instituto Brasileiro de Geografia e ...   028012/17        \n",
       "2   Fundação Instituto Brasileiro de Geografia e ...   030294/17        \n",
       "3   Fundação Instituto Brasileiro de Geografia e ...   030294/17        \n",
       "4   Fundação Instituto Brasileiro de Geografia e ...   032694/17        \n",
       "\n",
       "     N. Reserva/Localizador      Data Emissão Bilhete         Data Embarque  \\\n",
       "0   JGZQXC                    2017-10-03 11:33:35.808   2017-10-06 20:55:00   \n",
       "1   JHH5FW                    2017-10-03 11:33:37.149   2017-10-04 15:00:00   \n",
       "2   GIKVKJ                    2017-10-16 16:12:52.327   2017-10-26 11:40:00   \n",
       "3   HMHR3K                    2017-10-16 16:12:58.196   2017-10-23 11:15:00   \n",
       "4   LQF4YR                    2017-10-31 13:36:19.009   2017-11-20 18:35:00   \n",
       "\n",
       "   Valor Tarifa Comercial  Percentual Desconto Aplicado  \\\n",
       "0                   407.4                           0.0   \n",
       "1                   229.0                           3.0   \n",
       "2                  1111.9                           0.0   \n",
       "3                  1015.9                           0.0   \n",
       "4                   185.9                           3.0   \n",
       "\n",
       "            ...                                   Companhia Aérea  \\\n",
       "0           ...             LATAM AIRLINES BRASIL                   \n",
       "1           ...             AVIANCA S.A.                            \n",
       "2           ...             GOL Linhas Aéreas Inteligentes          \n",
       "3           ...             GOL Linhas Aéreas Inteligentes          \n",
       "4           ...             GOL Linhas Aéreas Inteligentes          \n",
       "\n",
       "     Classe Tarifária Bilhete  \\\n",
       "0   N                           \n",
       "1   Z                           \n",
       "2   J                           \n",
       "3   W                           \n",
       "4   U                           \n",
       "\n",
       "                                     Regra Tarifária    No Show    Remarcado  \\\n",
       "0   http://t.umail.com.br/ClickHere/ViewEmail.asp...   Não        Não          \n",
       "1   https://www.avianca.com.br/regras-de-tarifas ...   Não        Não          \n",
       "2   https://www.voegol.com.br/pt/informacoes/tari...   Não        Não          \n",
       "3   https://www.voegol.com.br/pt/informacoes/tari...   Não        Não          \n",
       "4   https://www.voegol.com.br/pt/informacoes/tari...   Não        Não          \n",
       "\n",
       "     Cancelado Valor Multas Valor Reembolso Diferença de Tarifa  \\\n",
       "0   Não                 0.0             0.0                 0.0   \n",
       "1   Não                 0.0             0.0                 0.0   \n",
       "2   Não                 0.0             0.0                 0.0   \n",
       "3   Não                 0.0             0.0                 0.0   \n",
       "4   Não                 0.0             0.0                 0.0   \n",
       "\n",
       "   Situação Final Bilhete  \n",
       "0                   Voado  \n",
       "1                   Voado  \n",
       "2               Andamento  \n",
       "3                   Voado  \n",
       "4               Andamento  \n",
       "\n",
       "[5 rows x 23 columns]"
      ]
     },
     "execution_count": 10,
     "metadata": {},
     "output_type": "execute_result"
    }
   ],
   "source": [
    "# Ler a arquivo e criar o DataFrame\n",
    "df = pd.read_excel('C:/Users/1831133119/Desktop/Marcos/Pyton/201710_EmissaoPassagens_SCDP.xlsx',skiprows=3,skipfooter=3)\n",
    "# verificar as primeiras 5 linhas do DataFrame\n",
    "df.head()"
   ]
  },
  {
   "cell_type": "code",
   "execution_count": 11,
   "metadata": {},
   "outputs": [
    {
     "data": {
      "text/html": [
       "<div>\n",
       "<style scoped>\n",
       "    .dataframe tbody tr th:only-of-type {\n",
       "        vertical-align: middle;\n",
       "    }\n",
       "\n",
       "    .dataframe tbody tr th {\n",
       "        vertical-align: top;\n",
       "    }\n",
       "\n",
       "    .dataframe thead th {\n",
       "        text-align: right;\n",
       "    }\n",
       "</style>\n",
       "<table border=\"1\" class=\"dataframe\">\n",
       "  <thead>\n",
       "    <tr style=\"text-align: right;\">\n",
       "      <th></th>\n",
       "      <th>Código do órgão superior</th>\n",
       "      <th>Nome do órgão superior</th>\n",
       "      <th>Código do órgão solicitante da viagem</th>\n",
       "      <th>Nome do órgão solicitante da viagem</th>\n",
       "      <th>N. PCDP</th>\n",
       "      <th>N. Reserva/Localizador</th>\n",
       "      <th>Data Emissão Bilhete</th>\n",
       "      <th>Data Embarque</th>\n",
       "      <th>Valor Tarifa Comercial</th>\n",
       "      <th>Percentual Desconto Aplicado</th>\n",
       "      <th>...</th>\n",
       "      <th>Companhia Aérea</th>\n",
       "      <th>Classe Tarifária Bilhete</th>\n",
       "      <th>Regra Tarifária</th>\n",
       "      <th>No Show</th>\n",
       "      <th>Remarcado</th>\n",
       "      <th>Cancelado</th>\n",
       "      <th>Valor Multas</th>\n",
       "      <th>Valor Reembolso</th>\n",
       "      <th>Diferença de Tarifa</th>\n",
       "      <th>Situação Final Bilhete</th>\n",
       "    </tr>\n",
       "  </thead>\n",
       "  <tbody>\n",
       "    <tr>\n",
       "      <th>50400</th>\n",
       "      <td>219924</td>\n",
       "      <td>Secretaria-Geral da Presidência da República ...</td>\n",
       "      <td>84010</td>\n",
       "      <td>Diretoria de Gestão de Pessoas               ...</td>\n",
       "      <td>000268/17</td>\n",
       "      <td>RNQM7X</td>\n",
       "      <td>2017-10-31 18:09:30.364</td>\n",
       "      <td>2017-11-19 16:15:00</td>\n",
       "      <td>1432.90</td>\n",
       "      <td>0.0</td>\n",
       "      <td>...</td>\n",
       "      <td>GOL Linhas Aéreas Inteligentes</td>\n",
       "      <td>Y</td>\n",
       "      <td>https://www.voegol.com.br/pt/informacoes/tari...</td>\n",
       "      <td>Não</td>\n",
       "      <td>Não</td>\n",
       "      <td>Não</td>\n",
       "      <td>0.0</td>\n",
       "      <td>0.0</td>\n",
       "      <td>0.0</td>\n",
       "      <td>Andamento</td>\n",
       "    </tr>\n",
       "    <tr>\n",
       "      <th>50401</th>\n",
       "      <td>219924</td>\n",
       "      <td>Secretaria-Geral da Presidência da República ...</td>\n",
       "      <td>84010</td>\n",
       "      <td>Diretoria de Gestão de Pessoas               ...</td>\n",
       "      <td>000273/17</td>\n",
       "      <td>KIA87I</td>\n",
       "      <td>2017-10-31 20:06:15.086</td>\n",
       "      <td>2017-11-05 09:00:00</td>\n",
       "      <td>1419.46</td>\n",
       "      <td>0.0</td>\n",
       "      <td>...</td>\n",
       "      <td>LATAM AIRLINES BRASIL</td>\n",
       "      <td>K</td>\n",
       "      <td>http://t.umail.com.br/ClickHere/ViewEmail.asp...</td>\n",
       "      <td>Não</td>\n",
       "      <td>Não</td>\n",
       "      <td>Não</td>\n",
       "      <td>0.0</td>\n",
       "      <td>0.0</td>\n",
       "      <td>0.0</td>\n",
       "      <td>Voado</td>\n",
       "    </tr>\n",
       "    <tr>\n",
       "      <th>50402</th>\n",
       "      <td>219924</td>\n",
       "      <td>Secretaria-Geral da Presidência da República ...</td>\n",
       "      <td>84010</td>\n",
       "      <td>Diretoria de Gestão de Pessoas               ...</td>\n",
       "      <td>000273/17</td>\n",
       "      <td>KIKRBK</td>\n",
       "      <td>2017-10-31 20:07:07.001</td>\n",
       "      <td>2017-11-05 19:20:00</td>\n",
       "      <td>1528.94</td>\n",
       "      <td>0.0</td>\n",
       "      <td>...</td>\n",
       "      <td>LATAM AIRLINES BRASIL</td>\n",
       "      <td>K</td>\n",
       "      <td>http://t.umail.com.br/ClickHere/ViewEmail.asp...</td>\n",
       "      <td>Não</td>\n",
       "      <td>Não</td>\n",
       "      <td>Não</td>\n",
       "      <td>0.0</td>\n",
       "      <td>0.0</td>\n",
       "      <td>0.0</td>\n",
       "      <td>Andamento</td>\n",
       "    </tr>\n",
       "    <tr>\n",
       "      <th>50403</th>\n",
       "      <td>219924</td>\n",
       "      <td>Secretaria-Geral da Presidência da República ...</td>\n",
       "      <td>34889</td>\n",
       "      <td>Diretoria de Recursos Logísticos             ...</td>\n",
       "      <td>000188/17</td>\n",
       "      <td>KD6EE6</td>\n",
       "      <td>2017-10-18 10:10:02.284</td>\n",
       "      <td>2017-10-26 09:35:00</td>\n",
       "      <td>454.93</td>\n",
       "      <td>0.0</td>\n",
       "      <td>...</td>\n",
       "      <td>LATAM AIRLINES BRASIL</td>\n",
       "      <td>X</td>\n",
       "      <td>http://t.umail.com.br/ClickHere/ViewEmail.asp...</td>\n",
       "      <td>Não</td>\n",
       "      <td>Não</td>\n",
       "      <td>Não</td>\n",
       "      <td>0.0</td>\n",
       "      <td>0.0</td>\n",
       "      <td>0.0</td>\n",
       "      <td>Andamento</td>\n",
       "    </tr>\n",
       "    <tr>\n",
       "      <th>50404</th>\n",
       "      <td>219924</td>\n",
       "      <td>Secretaria-Geral da Presidência da República ...</td>\n",
       "      <td>34889</td>\n",
       "      <td>Diretoria de Recursos Logísticos             ...</td>\n",
       "      <td>000188/17</td>\n",
       "      <td>OEWY8V</td>\n",
       "      <td>2017-10-18 10:09:20.946</td>\n",
       "      <td>2017-10-22 09:50:00</td>\n",
       "      <td>782.90</td>\n",
       "      <td>0.0</td>\n",
       "      <td>...</td>\n",
       "      <td>GOL Linhas Aéreas Inteligentes</td>\n",
       "      <td>W</td>\n",
       "      <td>https://www.voegol.com.br/pt/informacoes/tari...</td>\n",
       "      <td>Não</td>\n",
       "      <td>Não</td>\n",
       "      <td>Não</td>\n",
       "      <td>0.0</td>\n",
       "      <td>0.0</td>\n",
       "      <td>0.0</td>\n",
       "      <td>Andamento</td>\n",
       "    </tr>\n",
       "  </tbody>\n",
       "</table>\n",
       "<p>5 rows × 23 columns</p>\n",
       "</div>"
      ],
      "text/plain": [
       "       Código do órgão superior  \\\n",
       "50400                    219924   \n",
       "50401                    219924   \n",
       "50402                    219924   \n",
       "50403                    219924   \n",
       "50404                    219924   \n",
       "\n",
       "                                  Nome do órgão superior  \\\n",
       "50400   Secretaria-Geral da Presidência da República ...   \n",
       "50401   Secretaria-Geral da Presidência da República ...   \n",
       "50402   Secretaria-Geral da Presidência da República ...   \n",
       "50403   Secretaria-Geral da Presidência da República ...   \n",
       "50404   Secretaria-Geral da Presidência da República ...   \n",
       "\n",
       "       Código do órgão solicitante da viagem  \\\n",
       "50400                                  84010   \n",
       "50401                                  84010   \n",
       "50402                                  84010   \n",
       "50403                                  34889   \n",
       "50404                                  34889   \n",
       "\n",
       "                     Nome do órgão solicitante da viagem          N. PCDP  \\\n",
       "50400   Diretoria de Gestão de Pessoas               ...   000268/17        \n",
       "50401   Diretoria de Gestão de Pessoas               ...   000273/17        \n",
       "50402   Diretoria de Gestão de Pessoas               ...   000273/17        \n",
       "50403   Diretoria de Recursos Logísticos             ...   000188/17        \n",
       "50404   Diretoria de Recursos Logísticos             ...   000188/17        \n",
       "\n",
       "         N. Reserva/Localizador      Data Emissão Bilhete  \\\n",
       "50400   RNQM7X                    2017-10-31 18:09:30.364   \n",
       "50401   KIA87I                    2017-10-31 20:06:15.086   \n",
       "50402   KIKRBK                    2017-10-31 20:07:07.001   \n",
       "50403   KD6EE6                    2017-10-18 10:10:02.284   \n",
       "50404   OEWY8V                    2017-10-18 10:09:20.946   \n",
       "\n",
       "              Data Embarque  Valor Tarifa Comercial  \\\n",
       "50400   2017-11-19 16:15:00                 1432.90   \n",
       "50401   2017-11-05 09:00:00                 1419.46   \n",
       "50402   2017-11-05 19:20:00                 1528.94   \n",
       "50403   2017-10-26 09:35:00                  454.93   \n",
       "50404   2017-10-22 09:50:00                  782.90   \n",
       "\n",
       "       Percentual Desconto Aplicado           ...            \\\n",
       "50400                           0.0           ...             \n",
       "50401                           0.0           ...             \n",
       "50402                           0.0           ...             \n",
       "50403                           0.0           ...             \n",
       "50404                           0.0           ...             \n",
       "\n",
       "                              Companhia Aérea    Classe Tarifária Bilhete  \\\n",
       "50400   GOL Linhas Aéreas Inteligentes          Y                           \n",
       "50401   LATAM AIRLINES BRASIL                   K                           \n",
       "50402   LATAM AIRLINES BRASIL                   K                           \n",
       "50403   LATAM AIRLINES BRASIL                   X                           \n",
       "50404   GOL Linhas Aéreas Inteligentes          W                           \n",
       "\n",
       "                                         Regra Tarifária    No Show  \\\n",
       "50400   https://www.voegol.com.br/pt/informacoes/tari...   Não        \n",
       "50401   http://t.umail.com.br/ClickHere/ViewEmail.asp...   Não        \n",
       "50402   http://t.umail.com.br/ClickHere/ViewEmail.asp...   Não        \n",
       "50403   http://t.umail.com.br/ClickHere/ViewEmail.asp...   Não        \n",
       "50404   https://www.voegol.com.br/pt/informacoes/tari...   Não        \n",
       "\n",
       "         Remarcado    Cancelado Valor Multas Valor Reembolso  \\\n",
       "50400   Não          Não                 0.0             0.0   \n",
       "50401   Não          Não                 0.0             0.0   \n",
       "50402   Não          Não                 0.0             0.0   \n",
       "50403   Não          Não                 0.0             0.0   \n",
       "50404   Não          Não                 0.0             0.0   \n",
       "\n",
       "      Diferença de Tarifa  Situação Final Bilhete  \n",
       "50400                 0.0               Andamento  \n",
       "50401                 0.0                   Voado  \n",
       "50402                 0.0               Andamento  \n",
       "50403                 0.0               Andamento  \n",
       "50404                 0.0               Andamento  \n",
       "\n",
       "[5 rows x 23 columns]"
      ]
     },
     "execution_count": 11,
     "metadata": {},
     "output_type": "execute_result"
    }
   ],
   "source": [
    "# Vamos olhar as 5 ultimas linhas\n",
    "df.tail()"
   ]
  },
  {
   "cell_type": "code",
   "execution_count": 12,
   "metadata": {},
   "outputs": [
    {
     "data": {
      "text/plain": [
       "Código do órgão superior                   int64\n",
       "Nome do órgão superior                    object\n",
       "Código do órgão solicitante da viagem      int64\n",
       "Nome do órgão solicitante da viagem       object\n",
       "N. PCDP                                   object\n",
       "N. Reserva/Localizador                    object\n",
       "Data Emissão Bilhete                      object\n",
       "Data Embarque                             object\n",
       "Valor Tarifa Comercial                   float64\n",
       "Percentual Desconto Aplicado             float64\n",
       "Valor Tarifa Governo                     float64\n",
       "Valor Tarifa Embarque                    float64\n",
       "Valor Bilhete                            float64\n",
       "Companhia Aérea                           object\n",
       "Classe Tarifária Bilhete                  object\n",
       "Regra Tarifária                           object\n",
       "No Show                                   object\n",
       "Remarcado                                 object\n",
       "Cancelado                                 object\n",
       "Valor Multas                             float64\n",
       "Valor Reembolso                          float64\n",
       "Diferença de Tarifa                      float64\n",
       "Situação Final Bilhete                    object\n",
       "dtype: object"
      ]
     },
     "execution_count": 12,
     "metadata": {},
     "output_type": "execute_result"
    }
   ],
   "source": [
    "# Informações do DataFrame\n",
    "df.dtypes"
   ]
  },
  {
   "cell_type": "code",
   "execution_count": 13,
   "metadata": {},
   "outputs": [
    {
     "name": "stdout",
     "output_type": "stream",
     "text": [
      "<class 'pandas.core.frame.DataFrame'>\n",
      "RangeIndex: 50405 entries, 0 to 50404\n",
      "Data columns (total 23 columns):\n",
      "Código do órgão superior                 50405 non-null int64\n",
      "Nome do órgão superior                   50405 non-null object\n",
      "Código do órgão solicitante da viagem    50405 non-null int64\n",
      "Nome do órgão solicitante da viagem      50405 non-null object\n",
      "N. PCDP                                  50405 non-null object\n",
      "N. Reserva/Localizador                   50405 non-null object\n",
      "Data Emissão Bilhete                     50405 non-null object\n",
      "Data Embarque                            50405 non-null object\n",
      "Valor Tarifa Comercial                   50405 non-null float64\n",
      "Percentual Desconto Aplicado             50405 non-null float64\n",
      "Valor Tarifa Governo                     50405 non-null float64\n",
      "Valor Tarifa Embarque                    50405 non-null float64\n",
      "Valor Bilhete                            50405 non-null float64\n",
      "Companhia Aérea                          50405 non-null object\n",
      "Classe Tarifária Bilhete                 50405 non-null object\n",
      "Regra Tarifária                          50405 non-null object\n",
      "No Show                                  50405 non-null object\n",
      "Remarcado                                50405 non-null object\n",
      "Cancelado                                50405 non-null object\n",
      "Valor Multas                             50405 non-null float64\n",
      "Valor Reembolso                          50405 non-null float64\n",
      "Diferença de Tarifa                      50405 non-null float64\n",
      "Situação Final Bilhete                   50405 non-null object\n",
      "dtypes: float64(8), int64(2), object(13)\n",
      "memory usage: 8.8+ MB\n"
     ]
    }
   ],
   "source": [
    "# informações\n",
    "df.info()"
   ]
  },
  {
   "cell_type": "code",
   "execution_count": 29,
   "metadata": {},
   "outputs": [],
   "source": [
    "# Tratando dados\n",
    "df['Valor Tarifa Comercial'] = df['Valor Tarifa Comercial'].replace(' ','')\n",
    "df['Percentual Desconto Aplicado'] = df['Percentual Desconto Aplicado'].replace(' ','')\n",
    "df['Valor Tarifa Governo'] = df['Valor Tarifa Governo'].replace(' ','')\n",
    "df['Valor Tarifa Embarque'] = df['Valor Tarifa Embarque'].replace(' ','')\n",
    "df['Valor Bilhete'] = df['Valor Bilhete'].replace(' ','')\n",
    "df['Valor Multas'] = df['Valor Multas'].replace(' ','')\n",
    "df['Valor Reembolso'] = df['Valor Reembolso'].replace(' ','')\n",
    "df['Diferença de Tarifa'] = df['Diferença de Tarifa'].replace(' ','')"
   ]
  },
  {
   "cell_type": "code",
   "execution_count": 43,
   "metadata": {},
   "outputs": [],
   "source": [
    "# Convertendo as colunas de Data\n",
    "df['Data Emissão Bilhete'] = pd.to_datetime(df['Data Emissão Bilhete'])\n",
    "df['Data Embarque'] = pd.to_datetime(df['Data Embarque'])"
   ]
  },
  {
   "cell_type": "code",
   "execution_count": 44,
   "metadata": {},
   "outputs": [
    {
     "data": {
      "text/plain": [
       "Código do órgão superior                          int64\n",
       "Nome do órgão superior                           object\n",
       "Código do órgão solicitante da viagem             int64\n",
       "Nome do órgão solicitante da viagem              object\n",
       "N. PCDP                                          object\n",
       "N. Reserva/Localizador                           object\n",
       "Data Emissão Bilhete                     datetime64[ns]\n",
       "Data Embarque                            datetime64[ns]\n",
       "Valor Tarifa Comercial                          float64\n",
       "Percentual Desconto Aplicado                    float64\n",
       "Valor Tarifa Governo                            float64\n",
       "Valor Tarifa Embarque                           float64\n",
       "Valor Bilhete                                   float64\n",
       "Companhia Aérea                                  object\n",
       "Classe Tarifária Bilhete                         object\n",
       "Regra Tarifária                                  object\n",
       "No Show                                          object\n",
       "Remarcado                                        object\n",
       "Cancelado                                        object\n",
       "Valor Multas                                    float64\n",
       "Valor Reembolso                                 float64\n",
       "Diferença de Tarifa                             float64\n",
       "Situação Final Bilhete                           object\n",
       "Data_Bilhete                                     object\n",
       "Data_Embarque                                    object\n",
       "dtype: object"
      ]
     },
     "execution_count": 44,
     "metadata": {},
     "output_type": "execute_result"
    }
   ],
   "source": [
    "# Informações do DataFrame\n",
    "df.dtypes"
   ]
  },
  {
   "cell_type": "code",
   "execution_count": 36,
   "metadata": {},
   "outputs": [
    {
     "data": {
      "text/plain": [
       "22981   2017-10-27 19:00:57.809\n",
       "48703   2017-10-27 09:32:57.537\n",
       "43390   2017-10-06 10:45:20.997\n",
       "12285   2017-10-10 16:49:25.709\n",
       "14567   2017-04-18 08:56:41.291\n",
       "20648   2017-10-26 19:16:57.198\n",
       "22110   2017-10-20 12:25:05.071\n",
       "19521   2017-10-03 17:09:25.698\n",
       "18696   2017-10-24 18:21:51.804\n",
       "18080   2017-10-06 10:00:59.126\n",
       "Name: Data Emissão Bilhete, dtype: datetime64[ns]"
      ]
     },
     "execution_count": 36,
     "metadata": {},
     "output_type": "execute_result"
    }
   ],
   "source": [
    "df['Data Emissão Bilhete'].sample(10)"
   ]
  },
  {
   "cell_type": "code",
   "execution_count": 37,
   "metadata": {},
   "outputs": [],
   "source": [
    "# Criando uma coluna de data\n",
    "df['Data_Bilhete'] = df['Data Emissão Bilhete'].dt.strftime('%Y-%m-%d')\n",
    "df['Data_Embarque'] = df['Data Embarque'].dt.strftime('%Y-%m-%d')"
   ]
  },
  {
   "cell_type": "code",
   "execution_count": 49,
   "metadata": {},
   "outputs": [
    {
     "data": {
      "text/plain": [
       "43610    2017-10-06\n",
       "31146    2017-10-24\n",
       "22340    2017-10-06\n",
       "38682    2017-10-09\n",
       "33343    2017-10-18\n",
       "37893    2017-10-23\n",
       "19833    2017-10-25\n",
       "42245    2017-10-13\n",
       "6277     2017-10-13\n",
       "7004     2017-10-16\n",
       "Name: Data_Bilhete, dtype: object"
      ]
     },
     "execution_count": 49,
     "metadata": {},
     "output_type": "execute_result"
    }
   ],
   "source": [
    "df['Data_Bilhete'].sample(10)"
   ]
  },
  {
   "cell_type": "code",
   "execution_count": 72,
   "metadata": {},
   "outputs": [],
   "source": [
    "%matplotlib inline"
   ]
  },
  {
   "cell_type": "code",
   "execution_count": 78,
   "metadata": {},
   "outputs": [
    {
     "data": {
      "text/plain": [
       "<matplotlib.axes._subplots.AxesSubplot at 0x1233f128>"
      ]
     },
     "execution_count": 78,
     "metadata": {},
     "output_type": "execute_result"
    },
    {
     "data": {
      "image/png": "[encoded data removed]",
      "text/plain": [
       "<matplotlib.figure.Figure at 0x1233f5f8>"
      ]
     },
     "metadata": {},
     "output_type": "display_data"
    }
   ],
   "source": [
    "# Companhias mais utilizadas pelo governo\n",
    "df['Companhia Aérea'].value_counts().plot.barh()"
   ]
  },
  {
   "cell_type": "code",
   "execution_count": 82,
   "metadata": {},
   "outputs": [
    {
     "data": {
      "text/plain": [
       "<matplotlib.axes._subplots.AxesSubplot at 0x1244cda0>"
      ]
     },
     "execution_count": 82,
     "metadata": {},
     "output_type": "execute_result"
    },
    {
     "data": {
      "image/png": "[encoded data removed]",
      "text/plain": [
       "<matplotlib.figure.Figure at 0x123c2cc0>"
      ]
     },
     "metadata": {},
     "output_type": "display_data"
    }
   ],
   "source": [
    "# Comportamento de utilização dos Bilhetes\n",
    "df['Situação Final Bilhete'].value_counts().plot.pie()"
   ]
  },
  {
   "cell_type": "code",
   "execution_count": 87,
   "metadata": {},
   "outputs": [
    {
     "data": {
      "text/plain": [
       "Companhia Aérea\n",
       " GOL Linhas Aéreas Inteligentes           12936609.65\n",
       " LATAM AIRLINES BRASIL                     8457533.31\n",
       " AZUL LINHAS AÉREAS BRASILEIRA             8020100.45\n",
       " AVIANCA S.A.                              5245246.64\n",
       " MAP TRANSPORTES AEREOS LTDA - MAP          202197.21\n",
       " Gol OU Latam - Parceria com Terceiro       162520.18\n",
       "Name: Valor Bilhete, dtype: float64"
      ]
     },
     "execution_count": 87,
     "metadata": {},
     "output_type": "execute_result"
    }
   ],
   "source": [
    "# Companhias Aéreas mais utilizadas pelo orgãos de governo\n",
    "df.groupby(['Companhia Aérea'])['Valor Bilhete'].sum().nlargest(10)"
   ]
  },
  {
   "cell_type": "code",
   "execution_count": 86,
   "metadata": {},
   "outputs": [
    {
     "data": {
      "text/plain": [
       "<matplotlib.axes._subplots.AxesSubplot at 0x1319b748>"
      ]
     },
     "execution_count": 86,
     "metadata": {},
     "output_type": "execute_result"
    },
    {
     "data": {
      "image/png": "[encoded data removed]",
      "text/plain": [
       "<matplotlib.figure.Figure at 0x131ea6a0>"
      ]
     },
     "metadata": {},
     "output_type": "display_data"
    }
   ],
   "source": [
    "# Redimencionando Gráficos\n",
    "sns.set(rc={'figure.figsize':(16.7,8.27)})\n",
    "# Boxplot\n",
    "sns.boxplot(x='Companhia Aérea',y='Valor Bilhete', data=df)"
   ]
  },
  {
   "cell_type": "code",
   "execution_count": 102,
   "metadata": {},
   "outputs": [
    {
     "data": {
      "text/html": [
       "<div>\n",
       "<style scoped>\n",
       "    .dataframe tbody tr th:only-of-type {\n",
       "        vertical-align: middle;\n",
       "    }\n",
       "\n",
       "    .dataframe tbody tr th {\n",
       "        vertical-align: top;\n",
       "    }\n",
       "\n",
       "    .dataframe thead th {\n",
       "        text-align: right;\n",
       "    }\n",
       "</style>\n",
       "<table border=\"1\" class=\"dataframe\">\n",
       "  <thead>\n",
       "    <tr style=\"text-align: right;\">\n",
       "      <th></th>\n",
       "      <th>Valor Bilhete</th>\n",
       "    </tr>\n",
       "    <tr>\n",
       "      <th>Nome do órgão superior</th>\n",
       "      <th></th>\n",
       "    </tr>\n",
       "  </thead>\n",
       "  <tbody>\n",
       "    <tr>\n",
       "      <th>Departamento de Polícia Federal</th>\n",
       "      <td>2062715.79</td>\n",
       "    </tr>\n",
       "    <tr>\n",
       "      <th>Instituto Nacional de Estudos e Pesquisas Educacionais Anísio Teixeira</th>\n",
       "      <td>1986733.75</td>\n",
       "    </tr>\n",
       "    <tr>\n",
       "      <th>Ministério da Fazenda</th>\n",
       "      <td>1912028.17</td>\n",
       "    </tr>\n",
       "    <tr>\n",
       "      <th>Ministério da Saúde</th>\n",
       "      <td>1893325.13</td>\n",
       "    </tr>\n",
       "    <tr>\n",
       "      <th>Departamento de Polícia Rodoviária Federal</th>\n",
       "      <td>1129867.86</td>\n",
       "    </tr>\n",
       "    <tr>\n",
       "      <th>Instituto Nacional do Seguro Social</th>\n",
       "      <td>1029327.64</td>\n",
       "    </tr>\n",
       "    <tr>\n",
       "      <th>Comando do Exército</th>\n",
       "      <td>965679.82</td>\n",
       "    </tr>\n",
       "    <tr>\n",
       "      <th>Ministério da Justiça</th>\n",
       "      <td>874346.81</td>\n",
       "    </tr>\n",
       "    <tr>\n",
       "      <th>Ministério da Educação</th>\n",
       "      <td>868740.40</td>\n",
       "    </tr>\n",
       "    <tr>\n",
       "      <th>Fundação Nacional de Saúde</th>\n",
       "      <td>803115.51</td>\n",
       "    </tr>\n",
       "  </tbody>\n",
       "</table>\n",
       "</div>"
      ],
      "text/plain": [
       "                                                    Valor Bilhete\n",
       "Nome do órgão superior                                           \n",
       " Departamento de Polícia Federal               ...     2062715.79\n",
       " Instituto Nacional de Estudos e Pesquisas Educ...     1986733.75\n",
       " Ministério da Fazenda                         ...     1912028.17\n",
       " Ministério da Saúde                           ...     1893325.13\n",
       " Departamento de Polícia Rodoviária Federal    ...     1129867.86\n",
       " Instituto Nacional do Seguro Social           ...     1029327.64\n",
       " Comando do Exército                           ...      965679.82\n",
       " Ministério da Justiça                         ...      874346.81\n",
       " Ministério da Educação                        ...      868740.40\n",
       " Fundação Nacional de Saúde                    ...      803115.51"
      ]
     },
     "execution_count": 102,
     "metadata": {},
     "output_type": "execute_result"
    }
   ],
   "source": [
    "# Os 20 Orgãos Superiores que mais gastam com passagens aéresas\n",
    "df_maiores = pd.DataFrame(df.groupby(['Nome do órgão superior'])['Valor Bilhete'].sum().nlargest(10))\n",
    "df_maiores"
   ]
  },
  {
   "cell_type": "code",
   "execution_count": 108,
   "metadata": {},
   "outputs": [
    {
     "data": {
      "text/plain": [
       "<matplotlib.axes._subplots.AxesSubplot at 0xd16b4a8>"
      ]
     },
     "execution_count": 108,
     "metadata": {},
     "output_type": "execute_result"
    },
    {
     "data": {
      "image/png": "[encoded data removed]",
      "text/plain": [
       "<matplotlib.figure.Figure at 0xe980828>"
      ]
     },
     "metadata": {},
     "output_type": "display_data"
    }
   ],
   "source": [
    "# Companhias mais utilizadas pelo governo\n",
    "df.groupby(['Nome do órgão superior'])['Valor Bilhete'].sum().nlargest(10).plot.barh()"
   ]
  },
  {
   "cell_type": "code",
   "execution_count": 107,
   "metadata": {},
   "outputs": [
    {
     "data": {
      "text/plain": [
       "<matplotlib.axes._subplots.AxesSubplot at 0xd475588>"
      ]
     },
     "execution_count": 107,
     "metadata": {},
     "output_type": "execute_result"
    },
    {
     "data": {
      "image/png": "[encoded data removed]",
      "text/plain": [
       "<matplotlib.figure.Figure at 0xd1630f0>"
      ]
     },
     "metadata": {},
     "output_type": "display_data"
    }
   ],
   "source": [
    "# Companhias mais utilizadas pelo governo\n",
    "df_maiores.plot.bar()"
   ]
  },
  {
   "cell_type": "code",
   "execution_count": 128,
   "metadata": {},
   "outputs": [
    {
     "data": {
      "text/plain": [
       "array(['LATAM', 'AVIANCA', 'GOL', 'AZUL', 'Gol', 'MAP'], dtype=object)"
      ]
     },
     "execution_count": 128,
     "metadata": {},
     "output_type": "execute_result"
    }
   ],
   "source": [
    "# Pegar só o primeiro nome\n",
    "df['Companhia'] = df['Companhia Aérea'].str.split().str[0]\n",
    "df['Companhia'].unique()"
   ]
  },
  {
   "cell_type": "code",
   "execution_count": 130,
   "metadata": {},
   "outputs": [
    {
     "data": {
      "text/plain": [
       "array(['LATAM', 'AVIANCA', 'GOL', 'AZUL', 'Terceiros', 'MAP'],\n",
       "      dtype=object)"
      ]
     },
     "execution_count": 130,
     "metadata": {},
     "output_type": "execute_result"
    }
   ],
   "source": [
    "# Trocando o Nome 'Gol'\n",
    "df['Companhia'] = df['Companhia'].replace('Gol','Terceiros')\n",
    "df['Companhia'].unique()"
   ]
  },
  {
   "cell_type": "code",
   "execution_count": 131,
   "metadata": {},
   "outputs": [
    {
     "data": {
      "text/plain": [
       "<matplotlib.axes._subplots.AxesSubplot at 0x16d35128>"
      ]
     },
     "execution_count": 131,
     "metadata": {},
     "output_type": "execute_result"
    },
    {
     "data": {
      "image/png": "[encoded data removed]",
      "text/plain": [
       "<matplotlib.figure.Figure at 0x16b84f98>"
      ]
     },
     "metadata": {},
     "output_type": "display_data"
    }
   ],
   "source": [
    "# Sitauação Final por Companhia Aérea\n",
    "sns.countplot(x='Companhia',hue='Situação Final Bilhete',data=df)"
   ]
  },
  {
   "cell_type": "code",
   "execution_count": 132,
   "metadata": {},
   "outputs": [
    {
     "data": {
      "text/plain": [
       "<seaborn.axisgrid.FacetGrid at 0x16d355f8>"
      ]
     },
     "execution_count": 132,
     "metadata": {},
     "output_type": "execute_result"
    },
    {
     "data": {
      "image/png": "[encoded data removed]",
      "text/plain": [
       "<matplotlib.figure.Figure at 0x12ded978>"
      ]
     },
     "metadata": {},
     "output_type": "display_data"
    }
   ],
   "source": [
    "# Sitauação Final por Companhia Aérea\n",
    "sns.factorplot(x='Companhia',data=df, col='Situação Final Bilhete',kind='count')"
   ]
  },
  {
   "cell_type": "code",
   "execution_count": null,
   "metadata": {},
   "outputs": [],
   "source": []
  }
 ],
 "metadata": {
  "kernelspec": {
   "display_name": "Python 3",
   "language": "python",
   "name": "python3"
  },
  "language_info": {
   "codemirror_mode": {
    "name": "ipython",
    "version": 3
   },
   "file_extension": ".py",
   "mimetype": "text/x-python",
   "name": "python",
   "nbconvert_exporter": "python",
   "pygments_lexer": "ipython3",
   "version": "3.6.4"
  }
 },
 "nbformat": 4,
 "nbformat_minor": 2
}
